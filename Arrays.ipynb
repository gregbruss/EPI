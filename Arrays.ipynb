{
 "cells": [
  {
   "cell_type": "markdown",
   "metadata": {},
   "source": [
    "# Array Problems"
   ]
  },
  {
   "cell_type": "markdown",
   "metadata": {},
   "source": [
    "##### This notebook starts with some array tips and some useful array libraries information, then follows the general format:\n",
    ">### Problem\n",
    ">### Solution Idea\n",
    ">>### Code\n",
    ">### Analysis"
   ]
  },
  {
   "cell_type": "markdown",
   "metadata": {},
   "source": [
    "## The 10 Array Laws\n",
    "\n",
    "1. Array problems often have simple brute-force solutions that use O(n) space, but there are subtler solutions that use the array itself to reduce space complexity to O(1)  \n",
    "2. Filling an array from the front is slow, so see if its possible to write **from the back**\n",
    "3. **Overwrite** is more efficient than **delete**\n",
    "4. When dealing with integers encoded by an array, consider **processing the digits from the back of the array**. Alternatively, reverse the array so the **least-significant** digit is the first entry.\n",
    "5. Be comfortable with writing code that operates on **subarrays**\n",
    "6. Incredibly easy to make **off-by-1** errors\n",
    "7. Worry about the **integrity** of the array only when it is time to **return**. Efficiency first\n",
    "8. An array is a great data structure when you know the distribution of the elements in advance. For example, a Boolean array of length W is a good choice for representing a subset of {0, 1, ...W-1}\n",
    "9. When operating on 2D arrays, use **parallel logic** for rows and for columns**\n",
    "10. Sometimes it's easier to simulate the specification, than to analytically solve for the result."
   ]
  },
  {
   "cell_type": "markdown",
   "metadata": {},
   "source": [
    "### Even Odd\n",
    "**Question**: Your input is an array of integers, and you have to  re-order its entries so that the even entries appear first. This is easy to do with O(n) space, where n is the length of the array. However, you are required to solve it without allocating additional storage."
   ]
  },
  {
   "cell_type": "markdown",
   "metadata": {},
   "source": [
    "**Solution Idea**: We can partition the array into three subarrays: Even, Unclassified, and Odd, appearing in that order. Initially Even and Odd are empty, and Unclassified is the entire array. We iterate through Unclassified, moving its elements to the boundaries of the Even and Odd Subarrays via swaps, thereby expanding Even and Odd, and shrinking Unclassified."
   ]
  },
  {
   "cell_type": "code",
   "execution_count": 9,
   "metadata": {},
   "outputs": [],
   "source": [
    "def even_odd(A):\n",
    "    next_even, next_odd = 0, len(A) - 1\n",
    "    while next_even < next_odd:\n",
    "        if A[next_even] % 2 == 0:\n",
    "            next_even += 1\n",
    "        else: \n",
    "            A[next_even], A[next_odd] = A[next_odd], A[next_even]\n",
    "            next_odd -= 1"
   ]
  },
  {
   "cell_type": "markdown",
   "metadata": {},
   "source": [
    "**Analysis**:"
   ]
  },
  {
   "cell_type": "markdown",
   "metadata": {},
   "source": [
    " "
   ]
  },
  {
   "cell_type": "markdown",
   "metadata": {},
   "source": [
    "#### 5.1 The Dutch National Flag Problem\n",
    "Write a program that takes an array A and an index i into A, and rearranges the elements such that all elements less than A[i] (the \"pivot\") appear first, followed by elements equal to the pivot, followed by elements greather than the pivot"
   ]
  },
  {
   "cell_type": "markdown",
   "metadata": {},
   "source": [
    "**Solution**: "
   ]
  },
  {
   "cell_type": "code",
   "execution_count": 12,
   "metadata": {},
   "outputs": [],
   "source": [
    "#Code"
   ]
  },
  {
   "cell_type": "markdown",
   "metadata": {},
   "source": [
    "**Analysis**"
   ]
  }
 ],
 "metadata": {
  "kernelspec": {
   "display_name": "Python 3",
   "language": "python",
   "name": "python3"
  },
  "language_info": {
   "codemirror_mode": {
    "name": "ipython",
    "version": 3
   },
   "file_extension": ".py",
   "mimetype": "text/x-python",
   "name": "python",
   "nbconvert_exporter": "python",
   "pygments_lexer": "ipython3",
   "version": "3.6.8"
  }
 },
 "nbformat": 4,
 "nbformat_minor": 2
}
